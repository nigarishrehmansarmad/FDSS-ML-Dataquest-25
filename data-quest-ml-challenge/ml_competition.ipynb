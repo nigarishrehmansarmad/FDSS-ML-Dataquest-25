{
 "cells": [
  {
   "cell_type": "code",
   "execution_count": 86,
   "metadata": {},
   "outputs": [],
   "source": [
    "import pandas as pd\n",
    "import numpy as np\n",
    "from sklearn.model_selection import train_test_split\n",
    "from sklearn.preprocessing import StandardScaler,LabelEncoder,MinMaxScaler\n",
    "from sklearn.linear_model import LogisticRegression,LinearRegression\n",
    "from sklearn.ensemble import RandomForestRegressor\n",
    "from sklearn.tree import DecisionTreeRegressor\n",
    "from sklearn.metrics import mean_absolute_error,mean_squared_error,root_mean_squared_error\n",
    "import seaborn as sns\n",
    "import matplotlib.pyplot as plt\n",
    "from imblearn.over_sampling import SMOTE\n",
    "\n"
   ]
  },
  {
   "cell_type": "code",
   "execution_count": 87,
   "metadata": {},
   "outputs": [
    {
     "name": "stdout",
     "output_type": "stream",
     "text": [
      "   Game_ID                   Game_Name  Released_Year Game_Type  \\\n",
      "0     9048                         NaN    2010.866185  BaseGame   \n",
      "1    40086          Going The Distance    1999.742001  BaseGame   \n",
      "2    12545                      Inside    2006.099268  BaseGame   \n",
      "3    62639                         NaN    2022.149240  BaseGame   \n",
      "4    26419  Shift: The Single Card CCG    1980.874850  BaseGame   \n",
      "\n",
      "     Age_Category  Min_Players  Max_Players  Average_Complexity  \\\n",
      "0         under 5     2.063485     6.972730            3.393361   \n",
      "1         under 5     2.024560     8.083061                 NaN   \n",
      "2   5 to under 12     1.904577     2.252234            1.987593   \n",
      "3  12 to under 18     0.998837     4.478198            2.401989   \n",
      "4   5 to under 12     1.049099     2.563767            2.953464   \n",
      "\n",
      "   Complexity_Raters  Average_Play_Time  Owner_Number  Trader_Number  \\\n",
      "0         230.948365         122.783903   2645.455635      70.467538   \n",
      "1         -31.604440          61.738091    -55.070871     -10.584828   \n",
      "2         -16.699059           7.007170    162.082429            NaN   \n",
      "3          -2.565285          69.042747     -4.021747       9.757236   \n",
      "4          -9.404579         118.814781   -346.308189       2.090496   \n",
      "\n",
      "   HighInterest_Number  Interest_Number  Rater_Number  Comment_Number  \\\n",
      "0           295.440589       772.259070   1950.401281      666.936721   \n",
      "1             8.237338        70.751003     94.752363       12.909037   \n",
      "2            22.295290        43.073858    -28.294346      -36.402393   \n",
      "3            24.737626       200.847605    136.030458       39.452069   \n",
      "4            -0.576344        41.042707    141.711200       -5.460189   \n",
      "\n",
      "   Average_Rating  \n",
      "0         7.51948  \n",
      "1         7.50000  \n",
      "2         6.48832  \n",
      "3         7.66071  \n",
      "4         7.50000  \n"
     ]
    }
   ],
   "source": [
    "trainDf = pd.read_csv('PQC_train.csv')\n",
    "testDf = pd.read_csv('PQC_test.csv')\n",
    "\n",
    "print(trainDf.head())\n"
   ]
  },
  {
   "cell_type": "code",
   "execution_count": 88,
   "metadata": {},
   "outputs": [
    {
     "name": "stdout",
     "output_type": "stream",
     "text": [
      "<class 'pandas.core.frame.DataFrame'>\n",
      "RangeIndex: 22812 entries, 0 to 22811\n",
      "Data columns (total 17 columns):\n",
      " #   Column               Non-Null Count  Dtype  \n",
      "---  ------               --------------  -----  \n",
      " 0   Game_ID              22812 non-null  int64  \n",
      " 1   Game_Name            21665 non-null  object \n",
      " 2   Released_Year        21671 non-null  float64\n",
      " 3   Game_Type            21671 non-null  object \n",
      " 4   Age_Category         21671 non-null  object \n",
      " 5   Min_Players          21671 non-null  float64\n",
      " 6   Max_Players          21671 non-null  float64\n",
      " 7   Average_Complexity   21671 non-null  float64\n",
      " 8   Complexity_Raters    21671 non-null  float64\n",
      " 9   Average_Play_Time    21671 non-null  float64\n",
      " 10  Owner_Number         21671 non-null  float64\n",
      " 11  Trader_Number        21671 non-null  float64\n",
      " 12  HighInterest_Number  21671 non-null  float64\n",
      " 13  Interest_Number      21671 non-null  float64\n",
      " 14  Rater_Number         21671 non-null  float64\n",
      " 15  Comment_Number       21671 non-null  float64\n",
      " 16  Average_Rating       22812 non-null  float64\n",
      "dtypes: float64(13), int64(1), object(3)\n",
      "memory usage: 3.0+ MB\n"
     ]
    }
   ],
   "source": [
    "trainDf.info()"
   ]
  },
  {
   "cell_type": "code",
   "execution_count": 89,
   "metadata": {},
   "outputs": [
    {
     "name": "stdout",
     "output_type": "stream",
     "text": [
      "Train Categorical : Index(['Game_Name', 'Game_Type', 'Age_Category'], dtype='object')\n",
      "Test Categorical : Index(['Game_Name', 'Game_Type', 'Age_Category'], dtype='object')\n"
     ]
    }
   ],
   "source": [
    "#Categorical Features\n",
    "\n",
    "label = LabelEncoder()\n",
    "\n",
    "print(f\"Train Categorical : {trainDf.select_dtypes(include='object').columns}\")\n",
    "print(f\"Test Categorical : {testDf.select_dtypes(include='object').columns}\")\n",
    "\n"
   ]
  },
  {
   "cell_type": "code",
   "execution_count": 90,
   "metadata": {},
   "outputs": [
    {
     "name": "stdout",
     "output_type": "stream",
     "text": [
      "   Game_ID  Game_Name  Released_Year  Game_Type  Age_Category  Min_Players  \\\n",
      "0     9048      20301    2010.866185          0             4     2.063485   \n",
      "1    40086       7428    1999.742001          0             4     2.024560   \n",
      "2    12545       8660    2006.099268          0             3     1.904577   \n",
      "3    62639      20301    2022.149240          0             0     0.998837   \n",
      "4    26419      15110    1980.874850          0             3     1.049099   \n",
      "\n",
      "   Max_Players  Average_Complexity  Complexity_Raters  Average_Play_Time  \\\n",
      "0     6.972730            3.393361         230.948365         122.783903   \n",
      "1     8.083061                 NaN         -31.604440          61.738091   \n",
      "2     2.252234            1.987593         -16.699059           7.007170   \n",
      "3     4.478198            2.401989          -2.565285          69.042747   \n",
      "4     2.563767            2.953464          -9.404579         118.814781   \n",
      "\n",
      "   Owner_Number  Trader_Number  HighInterest_Number  Interest_Number  \\\n",
      "0   2645.455635      70.467538           295.440589       772.259070   \n",
      "1    -55.070871     -10.584828             8.237338        70.751003   \n",
      "2    162.082429            NaN            22.295290        43.073858   \n",
      "3     -4.021747       9.757236            24.737626       200.847605   \n",
      "4   -346.308189       2.090496            -0.576344        41.042707   \n",
      "\n",
      "   Rater_Number  Comment_Number  Average_Rating  \n",
      "0   1950.401281      666.936721         7.51948  \n",
      "1     94.752363       12.909037         7.50000  \n",
      "2    -28.294346      -36.402393         6.48832  \n",
      "3    136.030458       39.452069         7.66071  \n",
      "4    141.711200       -5.460189         7.50000  \n",
      "   Game_ID  Game_Name  Released_Year  Game_Type  Age_Category  Min_Players  \\\n",
      "0    44623        977           1993          1             4            2   \n",
      "1    12867       1834           2010          0             0            2   \n",
      "2    12422       1007           2003          0             0            2   \n",
      "3    29246        249           2006          1             3            2   \n",
      "4    20060        649           2002          0             0            2   \n",
      "\n",
      "   Max_Players  Average_Complexity  Complexity_Raters  Average_Play_Time  \\\n",
      "0            4              3.0000                  1                120   \n",
      "1            6              1.6364                 22                 60   \n",
      "2            4              2.0488                 41                 90   \n",
      "3            2              2.4545                 33                 30   \n",
      "4            8              1.0000                  1                 60   \n",
      "\n",
      "   Owner_Number  Trader_Number  HighInterest_Number  Interest_Number  \\\n",
      "0            22              1                    0                0   \n",
      "1           579             38                    2               13   \n",
      "2           725             69                    7               20   \n",
      "3          1377             60                   40               68   \n",
      "4             5              0                    0                0   \n",
      "\n",
      "   Rater_Number  Comment_Number  \n",
      "0             6               3  \n",
      "1           294              70  \n",
      "2           311             139  \n",
      "3           348             177  \n",
      "4             2               1  \n"
     ]
    }
   ],
   "source": [
    "#handling Categorical Features\n",
    "\n",
    "for col in trainDf.select_dtypes(include='object').columns:\n",
    "    trainDf[col] = label.fit_transform(trainDf[col])\n",
    "\n",
    "for col in testDf.select_dtypes(include='object').columns:\n",
    "    testDf[col] = label.fit_transform(testDf[col])\n",
    "\n",
    "print(trainDf.head())\n",
    "print(testDf.head())"
   ]
  },
  {
   "cell_type": "code",
   "execution_count": 91,
   "metadata": {},
   "outputs": [
    {
     "name": "stdout",
     "output_type": "stream",
     "text": [
      "Train Null : <bound method DataFrame.sum of        Game_ID  Game_Name  Released_Year  Game_Type  Age_Category  \\\n",
      "0        False      False          False      False         False   \n",
      "1        False      False          False      False         False   \n",
      "2        False      False          False      False         False   \n",
      "3        False      False          False      False         False   \n",
      "4        False      False          False      False         False   \n",
      "...        ...        ...            ...        ...           ...   \n",
      "22807    False      False          False      False         False   \n",
      "22808    False      False          False      False         False   \n",
      "22809    False      False           True      False         False   \n",
      "22810    False      False          False      False         False   \n",
      "22811    False      False          False      False         False   \n",
      "\n",
      "       Min_Players  Max_Players  Average_Complexity  Complexity_Raters  \\\n",
      "0            False        False               False              False   \n",
      "1            False        False                True              False   \n",
      "2            False        False               False              False   \n",
      "3            False        False               False              False   \n",
      "4            False        False               False              False   \n",
      "...            ...          ...                 ...                ...   \n",
      "22807        False        False                True              False   \n",
      "22808        False        False               False              False   \n",
      "22809        False        False               False              False   \n",
      "22810        False        False               False              False   \n",
      "22811        False        False               False              False   \n",
      "\n",
      "       Average_Play_Time  Owner_Number  Trader_Number  HighInterest_Number  \\\n",
      "0                  False         False          False                False   \n",
      "1                  False         False          False                False   \n",
      "2                  False         False           True                False   \n",
      "3                  False         False          False                False   \n",
      "4                  False         False          False                False   \n",
      "...                  ...           ...            ...                  ...   \n",
      "22807              False         False          False                False   \n",
      "22808              False         False          False                False   \n",
      "22809              False         False          False                False   \n",
      "22810              False         False          False                False   \n",
      "22811              False         False          False                False   \n",
      "\n",
      "       Interest_Number  Rater_Number  Comment_Number  Average_Rating  \n",
      "0                False         False           False           False  \n",
      "1                False         False           False           False  \n",
      "2                False         False           False           False  \n",
      "3                False         False           False           False  \n",
      "4                False         False           False           False  \n",
      "...                ...           ...             ...             ...  \n",
      "22807            False         False           False           False  \n",
      "22808            False         False           False           False  \n",
      "22809            False         False           False           False  \n",
      "22810            False         False           False           False  \n",
      "22811             True          True           False           False  \n",
      "\n",
      "[22812 rows x 17 columns]>\n",
      "Test nulls : <bound method DataFrame.sum of       Game_ID  Game_Name  Released_Year  Game_Type  Age_Category  Min_Players  \\\n",
      "0       False      False          False      False         False        False   \n",
      "1       False      False          False      False         False        False   \n",
      "2       False      False          False      False         False        False   \n",
      "3       False      False          False      False         False        False   \n",
      "4       False      False          False      False         False        False   \n",
      "...       ...        ...            ...        ...           ...          ...   \n",
      "1996    False      False          False      False         False        False   \n",
      "1997    False      False          False      False         False        False   \n",
      "1998    False      False          False      False         False        False   \n",
      "1999    False      False          False      False         False        False   \n",
      "2000    False      False          False      False         False        False   \n",
      "\n",
      "      Max_Players  Average_Complexity  Complexity_Raters  Average_Play_Time  \\\n",
      "0           False               False              False              False   \n",
      "1           False               False              False              False   \n",
      "2           False               False              False              False   \n",
      "3           False               False              False              False   \n",
      "4           False               False              False              False   \n",
      "...           ...                 ...                ...                ...   \n",
      "1996        False               False              False              False   \n",
      "1997        False               False              False              False   \n",
      "1998        False               False              False              False   \n",
      "1999        False               False              False              False   \n",
      "2000        False               False              False              False   \n",
      "\n",
      "      Owner_Number  Trader_Number  HighInterest_Number  Interest_Number  \\\n",
      "0            False          False                False            False   \n",
      "1            False          False                False            False   \n",
      "2            False          False                False            False   \n",
      "3            False          False                False            False   \n",
      "4            False          False                False            False   \n",
      "...            ...            ...                  ...              ...   \n",
      "1996         False          False                False            False   \n",
      "1997         False          False                False            False   \n",
      "1998         False          False                False            False   \n",
      "1999         False          False                False            False   \n",
      "2000         False          False                False            False   \n",
      "\n",
      "      Rater_Number  Comment_Number  \n",
      "0            False           False  \n",
      "1            False           False  \n",
      "2            False           False  \n",
      "3            False           False  \n",
      "4            False           False  \n",
      "...            ...             ...  \n",
      "1996         False           False  \n",
      "1997         False           False  \n",
      "1998         False           False  \n",
      "1999         False           False  \n",
      "2000         False           False  \n",
      "\n",
      "[2001 rows x 16 columns]>\n"
     ]
    }
   ],
   "source": [
    "nullTraVal = trainDf.isnull().sum\n",
    "nullTestVal = testDf.isnull().sum\n",
    "\n",
    "print(f\"Train Null : {nullTraVal}\")\n",
    "print(f\"Test nulls : {nullTestVal}\")"
   ]
  },
  {
   "cell_type": "code",
   "execution_count": 92,
   "metadata": {},
   "outputs": [
    {
     "name": "stdout",
     "output_type": "stream",
     "text": [
      "   Game_ID  Game_Name  Released_Year  Game_Type  Age_Category  Min_Players  \\\n",
      "0     9048      20301    2010.866185          0             4     2.063485   \n",
      "1    40086       7428    1999.742001          0             4     2.024560   \n",
      "2    12545       8660    2006.099268          0             3     1.904577   \n",
      "3    62639      20301    2022.149240          0             0     0.998837   \n",
      "4    26419      15110    1980.874850          0             3     1.049099   \n",
      "\n",
      "   Max_Players  Average_Complexity  Complexity_Raters  Average_Play_Time  \\\n",
      "0     6.972730            3.393361         230.948365         122.783903   \n",
      "1     8.083061            1.986367         -31.604440          61.738091   \n",
      "2     2.252234            1.987593         -16.699059           7.007170   \n",
      "3     4.478198            2.401989          -2.565285          69.042747   \n",
      "4     2.563767            2.953464          -9.404579         118.814781   \n",
      "\n",
      "   Owner_Number  Trader_Number  HighInterest_Number  Interest_Number  \\\n",
      "0   2645.455635      70.467538           295.440589       772.259070   \n",
      "1    -55.070871     -10.584828             8.237338        70.751003   \n",
      "2    162.082429      23.156978            22.295290        43.073858   \n",
      "3     -4.021747       9.757236            24.737626       200.847605   \n",
      "4   -346.308189       2.090496            -0.576344        41.042707   \n",
      "\n",
      "   Rater_Number  Comment_Number  Average_Rating  \n",
      "0   1950.401281      666.936721         7.51948  \n",
      "1     94.752363       12.909037         7.50000  \n",
      "2    -28.294346      -36.402393         6.48832  \n",
      "3    136.030458       39.452069         7.66071  \n",
      "4    141.711200       -5.460189         7.50000  \n",
      "   Game_ID  Game_Name  Released_Year  Game_Type  Age_Category  Min_Players  \\\n",
      "0    44623        977           1993          1             4            2   \n",
      "1    12867       1834           2010          0             0            2   \n",
      "2    12422       1007           2003          0             0            2   \n",
      "3    29246        249           2006          1             3            2   \n",
      "4    20060        649           2002          0             0            2   \n",
      "\n",
      "   Max_Players  Average_Complexity  Complexity_Raters  Average_Play_Time  \\\n",
      "0            4              3.0000                  1                120   \n",
      "1            6              1.6364                 22                 60   \n",
      "2            4              2.0488                 41                 90   \n",
      "3            2              2.4545                 33                 30   \n",
      "4            8              1.0000                  1                 60   \n",
      "\n",
      "   Owner_Number  Trader_Number  HighInterest_Number  Interest_Number  \\\n",
      "0            22              1                    0                0   \n",
      "1           579             38                    2               13   \n",
      "2           725             69                    7               20   \n",
      "3          1377             60                   40               68   \n",
      "4             5              0                    0                0   \n",
      "\n",
      "   Rater_Number  Comment_Number  \n",
      "0             6               3  \n",
      "1           294              70  \n",
      "2           311             139  \n",
      "3           348             177  \n",
      "4             2               1  \n"
     ]
    }
   ],
   "source": [
    "#Handlinhg Missing\n",
    "\n",
    "trainDf = trainDf.fillna(trainDf.mean())\n",
    "testDf = testDf.fillna(testDf.mean())\n",
    "\n",
    "print(trainDf.head())\n",
    "print(testDf.head())"
   ]
  },
  {
   "cell_type": "code",
   "execution_count": 93,
   "metadata": {},
   "outputs": [],
   "source": [
    "trainDf = trainDf.drop_duplicates()\n",
    "testDf = testDf.drop_duplicates()"
   ]
  },
  {
   "cell_type": "code",
   "execution_count": 95,
   "metadata": {},
   "outputs": [
    {
     "name": "stdout",
     "output_type": "stream",
     "text": [
      "(2001, 16)\n",
      "(22812, 16)\n",
      "(22812,)\n"
     ]
    }
   ],
   "source": [
    "#Splitting\n",
    "\n",
    "target = 'Average_Rating'\n",
    "\n",
    "X_train = trainDf.drop(target,axis=1)\n",
    "Y_train = trainDf[target]\n",
    "\n",
    "X_test = testDf\n",
    "print(X_test.shape)\n",
    "print(X_train.shape)\n",
    "print(Y_train.shape)\n"
   ]
  },
  {
   "cell_type": "code",
   "execution_count": 96,
   "metadata": {},
   "outputs": [
    {
     "name": "stdout",
     "output_type": "stream",
     "text": [
      "(2001, 16)\n",
      "(22812, 16)\n",
      "(22812,)\n"
     ]
    }
   ],
   "source": [
    "#Scaling\n",
    "\n",
    "scaler = StandardScaler()\n",
    "\n",
    "X_train=scaler.fit_transform(X_train)\n",
    "X_test=scaler.fit_transform(X_test)\n",
    "\n",
    "print(X_test.shape)\n",
    "print(X_train.shape)\n",
    "print(Y_train.shape)"
   ]
  },
  {
   "cell_type": "code",
   "execution_count": 97,
   "metadata": {},
   "outputs": [
    {
     "data": {
      "image/png": "[encoded data removed]",
      "text/plain": [
       "<Figure size 640x480 with 1 Axes>"
      ]
     },
     "metadata": {},
     "output_type": "display_data"
    }
   ],
   "source": [
    "#Imbalance Checking\n",
    "\n",
    "sns.histplot(trainDf['Average_Rating'],kde=True)\n",
    "plt.title(\"Distribution Of Target\")\n",
    "plt.show()"
   ]
  },
  {
   "cell_type": "code",
   "execution_count": 98,
   "metadata": {},
   "outputs": [
    {
     "data": {
      "text/html": [
       "<div>\n",
       "<style scoped>\n",
       "    .dataframe tbody tr th:only-of-type {\n",
       "        vertical-align: middle;\n",
       "    }\n",
       "\n",
       "    .dataframe tbody tr th {\n",
       "        vertical-align: top;\n",
       "    }\n",
       "\n",
       "    .dataframe thead th {\n",
       "        text-align: right;\n",
       "    }\n",
       "</style>\n",
       "<table border=\"1\" class=\"dataframe\">\n",
       "  <thead>\n",
       "    <tr style=\"text-align: right;\">\n",
       "      <th></th>\n",
       "      <th>Game_ID</th>\n",
       "      <th>Game_Name</th>\n",
       "      <th>Released_Year</th>\n",
       "      <th>Game_Type</th>\n",
       "      <th>Age_Category</th>\n",
       "      <th>Min_Players</th>\n",
       "      <th>Max_Players</th>\n",
       "      <th>Average_Complexity</th>\n",
       "      <th>Complexity_Raters</th>\n",
       "      <th>Average_Play_Time</th>\n",
       "      <th>Owner_Number</th>\n",
       "      <th>Trader_Number</th>\n",
       "      <th>HighInterest_Number</th>\n",
       "      <th>Interest_Number</th>\n",
       "      <th>Rater_Number</th>\n",
       "      <th>Comment_Number</th>\n",
       "    </tr>\n",
       "  </thead>\n",
       "  <tbody>\n",
       "    <tr>\n",
       "      <th>0</th>\n",
       "      <td>44623</td>\n",
       "      <td>977</td>\n",
       "      <td>1993</td>\n",
       "      <td>1</td>\n",
       "      <td>4</td>\n",
       "      <td>2</td>\n",
       "      <td>4</td>\n",
       "      <td>3.0000</td>\n",
       "      <td>1</td>\n",
       "      <td>120</td>\n",
       "      <td>22</td>\n",
       "      <td>1</td>\n",
       "      <td>0</td>\n",
       "      <td>0</td>\n",
       "      <td>6</td>\n",
       "      <td>3</td>\n",
       "    </tr>\n",
       "    <tr>\n",
       "      <th>1</th>\n",
       "      <td>12867</td>\n",
       "      <td>1834</td>\n",
       "      <td>2010</td>\n",
       "      <td>0</td>\n",
       "      <td>0</td>\n",
       "      <td>2</td>\n",
       "      <td>6</td>\n",
       "      <td>1.6364</td>\n",
       "      <td>22</td>\n",
       "      <td>60</td>\n",
       "      <td>579</td>\n",
       "      <td>38</td>\n",
       "      <td>2</td>\n",
       "      <td>13</td>\n",
       "      <td>294</td>\n",
       "      <td>70</td>\n",
       "    </tr>\n",
       "    <tr>\n",
       "      <th>2</th>\n",
       "      <td>12422</td>\n",
       "      <td>1007</td>\n",
       "      <td>2003</td>\n",
       "      <td>0</td>\n",
       "      <td>0</td>\n",
       "      <td>2</td>\n",
       "      <td>4</td>\n",
       "      <td>2.0488</td>\n",
       "      <td>41</td>\n",
       "      <td>90</td>\n",
       "      <td>725</td>\n",
       "      <td>69</td>\n",
       "      <td>7</td>\n",
       "      <td>20</td>\n",
       "      <td>311</td>\n",
       "      <td>139</td>\n",
       "    </tr>\n",
       "    <tr>\n",
       "      <th>3</th>\n",
       "      <td>29246</td>\n",
       "      <td>249</td>\n",
       "      <td>2006</td>\n",
       "      <td>1</td>\n",
       "      <td>3</td>\n",
       "      <td>2</td>\n",
       "      <td>2</td>\n",
       "      <td>2.4545</td>\n",
       "      <td>33</td>\n",
       "      <td>30</td>\n",
       "      <td>1377</td>\n",
       "      <td>60</td>\n",
       "      <td>40</td>\n",
       "      <td>68</td>\n",
       "      <td>348</td>\n",
       "      <td>177</td>\n",
       "    </tr>\n",
       "    <tr>\n",
       "      <th>4</th>\n",
       "      <td>20060</td>\n",
       "      <td>649</td>\n",
       "      <td>2002</td>\n",
       "      <td>0</td>\n",
       "      <td>0</td>\n",
       "      <td>2</td>\n",
       "      <td>8</td>\n",
       "      <td>1.0000</td>\n",
       "      <td>1</td>\n",
       "      <td>60</td>\n",
       "      <td>5</td>\n",
       "      <td>0</td>\n",
       "      <td>0</td>\n",
       "      <td>0</td>\n",
       "      <td>2</td>\n",
       "      <td>1</td>\n",
       "    </tr>\n",
       "  </tbody>\n",
       "</table>\n",
       "</div>"
      ],
      "text/plain": [
       "   Game_ID  Game_Name  Released_Year  Game_Type  Age_Category  Min_Players  \\\n",
       "0    44623        977           1993          1             4            2   \n",
       "1    12867       1834           2010          0             0            2   \n",
       "2    12422       1007           2003          0             0            2   \n",
       "3    29246        249           2006          1             3            2   \n",
       "4    20060        649           2002          0             0            2   \n",
       "\n",
       "   Max_Players  Average_Complexity  Complexity_Raters  Average_Play_Time  \\\n",
       "0            4              3.0000                  1                120   \n",
       "1            6              1.6364                 22                 60   \n",
       "2            4              2.0488                 41                 90   \n",
       "3            2              2.4545                 33                 30   \n",
       "4            8              1.0000                  1                 60   \n",
       "\n",
       "   Owner_Number  Trader_Number  HighInterest_Number  Interest_Number  \\\n",
       "0            22              1                    0                0   \n",
       "1           579             38                    2               13   \n",
       "2           725             69                    7               20   \n",
       "3          1377             60                   40               68   \n",
       "4             5              0                    0                0   \n",
       "\n",
       "   Rater_Number  Comment_Number  \n",
       "0             6               3  \n",
       "1           294              70  \n",
       "2           311             139  \n",
       "3           348             177  \n",
       "4             2               1  "
      ]
     },
     "execution_count": 98,
     "metadata": {},
     "output_type": "execute_result"
    }
   ],
   "source": [
    "testDf.head()"
   ]
  },
  {
   "cell_type": "code",
   "execution_count": 99,
   "metadata": {},
   "outputs": [
    {
     "name": "stdout",
     "output_type": "stream",
     "text": [
      "MSE Train : 1.8830378381321216\n"
     ]
    }
   ],
   "source": [
    "#Linear Regression\n",
    "\n",
    "lr = LinearRegression()\n",
    "lr.fit(X_train,Y_train)\n",
    "\n",
    "yTrainPred = lr.predict(X_train)\n",
    "yTestPred = lr.predict(X_test)\n",
    "\n",
    "mseTrain = mean_squared_error(Y_train,yTrainPred)\n",
    "print(f\"MSE Train : {mseTrain}\")"
   ]
  },
  {
   "cell_type": "code",
   "execution_count": 100,
   "metadata": {},
   "outputs": [
    {
     "name": "stdout",
     "output_type": "stream",
     "text": [
      "MSE Train : 1.037428860101278e-34\n"
     ]
    }
   ],
   "source": [
    "#DecisiionTreeRegressort\n",
    "\n",
    "dt = DecisionTreeRegressor()\n",
    "dt.fit(X_train,Y_train)\n",
    "\n",
    "yTrainPred = dt.predict(X_train)\n",
    "yTestPred = dt.predict(X_test)\n",
    "\n",
    "mseTrain = mean_squared_error(Y_train,yTrainPred)\n",
    "print(f\"MSE Train : {mseTrain}\")"
   ]
  },
  {
   "cell_type": "code",
   "execution_count": 104,
   "metadata": {},
   "outputs": [
    {
     "name": "stdout",
     "output_type": "stream",
     "text": [
      "MSE Train : 0.21986602679372588\n"
     ]
    }
   ],
   "source": [
    "#RandomForestRegressor\n",
    "\n",
    "rf = RandomForestRegressor()\n",
    "rf.fit(X_train,Y_train)\n",
    "\n",
    "yTrainPred = rf.predict(X_train)\n",
    "yTestPredRF = rf.predict(X_test)\n",
    "\n",
    "mseTrain = mean_squared_error(Y_train,yTrainPred)\n",
    "print(f\"MSE Train : {mseTrain}\")"
   ]
  },
  {
   "cell_type": "code",
   "execution_count": 105,
   "metadata": {},
   "outputs": [
    {
     "data": {
      "text/plain": [
       "array([7.2130267, 6.2061437, 6.1416872, ..., 7.0427871, 7.5970991,\n",
       "       5.1597846])"
      ]
     },
     "execution_count": 105,
     "metadata": {},
     "output_type": "execute_result"
    }
   ],
   "source": [
    "yTestPredRF"
   ]
  },
  {
   "cell_type": "code",
   "execution_count": 110,
   "metadata": {},
   "outputs": [],
   "source": [
    "gameIDs = testDf['Game_ID']\n",
    "predictions = yTestPredRF\n",
    "\n",
    "dfra = {'Game_ID':gameIDs,\n",
    "        'testPredictions':predictions}\n",
    "\n",
    "dfra = pd.DataFrame(dfra)\n",
    "dfra.to_csv('RandomForest.csv',index=False)"
   ]
  }
 ],
 "metadata": {
  "kernelspec": {
   "display_name": "base",
   "language": "python",
   "name": "python3"
  },
  "language_info": {
   "codemirror_mode": {
    "name": "ipython",
    "version": 3
   },
   "file_extension": ".py",
   "mimetype": "text/x-python",
   "name": "python",
   "nbconvert_exporter": "python",
   "pygments_lexer": "ipython3",
   "version": "3.11.10"
  }
 },
 "nbformat": 4,
 "nbformat_minor": 2
}
